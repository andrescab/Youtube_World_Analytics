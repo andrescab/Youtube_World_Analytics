{
 "cells": [
  {
   "cell_type": "code",
   "execution_count": 32,
   "id": "aa1246bb",
   "metadata": {},
   "outputs": [],
   "source": [
    "import google.auth\n",
    "import googleapiclient.discovery\n",
    "from googleapiclient import discovery\n",
    "import pandas as pd\n",
    "from IPython.display import JSON\n",
    "import requests\n",
    "from config import youtube_api_key\n",
    "requests.__version__\n",
    "import json"
   ]
  },
  {
   "cell_type": "code",
   "execution_count": 33,
   "id": "679f1d69",
   "metadata": {
    "scrolled": true
   },
   "outputs": [],
   "source": [
    "channel_ids = ['UCDfbsXLRCyk_LIkrtaTmliQ', \n",
    "               #more channels here\n",
    "              ]"
   ]
  },
  {
   "cell_type": "code",
   "execution_count": 34,
   "id": "e82eaa44",
   "metadata": {},
   "outputs": [
    {
     "name": "stdout",
     "output_type": "stream",
     "text": [
      "{'kind': 'youtube#channelListResponse', 'etag': 'pZW9Rs9P4FpXAxvdLzZ1kX5IzZ4', 'pageInfo': {'totalResults': 1, 'resultsPerPage': 5}, 'items': [{'kind': 'youtube#channel', 'etag': 'Jv_uX_oyimRE-CvsJ2EqgBdjfGA', 'id': 'UCDfbsXLRCyk_LIkrtaTmliQ', 'snippet': {'title': 'PlanetaJuan', 'description': 'Larga vida a la abuela', 'customUrl': '@planetajuan', 'publishedAt': '2017-03-08T23:37:45Z', 'thumbnails': {'default': {'url': 'https://yt3.ggpht.com/ytc/AL5GRJXSQtfIvsusEgUE2E_jAKORPkqpTI7rmD9m2rSBxA=s88-c-k-c0x00ffffff-no-rj', 'width': 88, 'height': 88}, 'medium': {'url': 'https://yt3.ggpht.com/ytc/AL5GRJXSQtfIvsusEgUE2E_jAKORPkqpTI7rmD9m2rSBxA=s240-c-k-c0x00ffffff-no-rj', 'width': 240, 'height': 240}, 'high': {'url': 'https://yt3.ggpht.com/ytc/AL5GRJXSQtfIvsusEgUE2E_jAKORPkqpTI7rmD9m2rSBxA=s800-c-k-c0x00ffffff-no-rj', 'width': 800, 'height': 800}}, 'localized': {'title': 'PlanetaJuan', 'description': 'Larga vida a la abuela'}, 'country': 'US'}, 'contentDetails': {'relatedPlaylists': {'likes': '', 'uploads': 'UUDfbsXLRCyk_LIkrtaTmliQ'}}, 'statistics': {'viewCount': '188418419', 'subscriberCount': '1480000', 'hiddenSubscriberCount': False, 'videoCount': '424'}}]}\n"
     ]
    }
   ],
   "source": [
    "api_service_name = \"youtube\"\n",
    "api_version = \"v3\"\n",
    "\n",
    "# Get credentials and create an API client\n",
    "youtube = discovery.build(\n",
    "    api_service_name, api_version, developerKey=youtube_api_key)\n",
    "\n",
    "request = youtube.channels().list(\n",
    "    part=\"snippet,contentDetails,statistics\",\n",
    "    id=\",\".join(channel_ids)\n",
    ")\n",
    "response = request.execute()\n",
    "\n",
    "print(response)"
   ]
  },
  {
   "cell_type": "code",
   "execution_count": 35,
   "id": "a600594b",
   "metadata": {},
   "outputs": [],
   "source": [
    "def get_channel_stats(youtube, channel_ids):\n",
    "    all_data= []\n",
    "    \n",
    "    request = youtube.channels().list(\n",
    "        part=\"snippet,contentDetails,statistics\",\n",
    "        id=','.join(channel_ids)\n",
    "    )\n",
    "    response = request.execute()\n",
    "    \n",
    "    # loop through items\n",
    "    for item in response['items']:\n",
    "        data = {'channelName': item['snippet']['title'],\n",
    "                'subscribers': item['statistics']['subscriberCount'],\n",
    "                'views': item['statistics']['viewCount'],\n",
    "                'totalVideos':item['statistics']['videoCount'],\n",
    "                'playlistId':item['contentDetails']['relatedPlaylists']['uploads']\n",
    "        }\n",
    "        \n",
    "        all_data.append(data)\n",
    "    return(pd.DataFrame(all_data))"
   ]
  },
  {
   "cell_type": "code",
   "execution_count": 36,
   "id": "8d54f206",
   "metadata": {},
   "outputs": [],
   "source": [
    "channel_stats = get_channel_stats(youtube, channel_ids)"
   ]
  },
  {
   "cell_type": "code",
   "execution_count": 37,
   "id": "4c984a6c",
   "metadata": {},
   "outputs": [
    {
     "data": {
      "text/html": [
       "<div>\n",
       "<style scoped>\n",
       "    .dataframe tbody tr th:only-of-type {\n",
       "        vertical-align: middle;\n",
       "    }\n",
       "\n",
       "    .dataframe tbody tr th {\n",
       "        vertical-align: top;\n",
       "    }\n",
       "\n",
       "    .dataframe thead th {\n",
       "        text-align: right;\n",
       "    }\n",
       "</style>\n",
       "<table border=\"1\" class=\"dataframe\">\n",
       "  <thead>\n",
       "    <tr style=\"text-align: right;\">\n",
       "      <th></th>\n",
       "      <th>channelName</th>\n",
       "      <th>subscribers</th>\n",
       "      <th>views</th>\n",
       "      <th>totalVideos</th>\n",
       "      <th>playlistId</th>\n",
       "    </tr>\n",
       "  </thead>\n",
       "  <tbody>\n",
       "    <tr>\n",
       "      <th>0</th>\n",
       "      <td>PlanetaJuan</td>\n",
       "      <td>1480000</td>\n",
       "      <td>188418419</td>\n",
       "      <td>424</td>\n",
       "      <td>UUDfbsXLRCyk_LIkrtaTmliQ</td>\n",
       "    </tr>\n",
       "  </tbody>\n",
       "</table>\n",
       "</div>"
      ],
      "text/plain": [
       "   channelName subscribers      views totalVideos                playlistId\n",
       "0  PlanetaJuan     1480000  188418419         424  UUDfbsXLRCyk_LIkrtaTmliQ"
      ]
     },
     "execution_count": 37,
     "metadata": {},
     "output_type": "execute_result"
    }
   ],
   "source": [
    "channel_stats"
   ]
  },
  {
   "cell_type": "code",
   "execution_count": 38,
   "id": "82636c61",
   "metadata": {
    "scrolled": true
   },
   "outputs": [],
   "source": [
    "playlist_id = \"PL3-PXpEvVoG8zY7MFlb2PSfPzb6hNbv-A\"\n",
    "\n",
    "def get_video_ids(youtube, playlist_id):\n",
    "    video_ids = []\n",
    "    \n",
    "    request = youtube.playlistItems().list(\n",
    "        part=\"snippet,contentDetails\",\n",
    "        playlistId=\"PL3-PXpEvVoG8zY7MFlb2PSfPzb6hNbv-A\",\n",
    "        maxResults = 50\n",
    "    )\n",
    "    response = request.execute()\n",
    "    for item in response['items']:\n",
    "        video_ids.append(item['contentDetails']['videoId'])\n",
    "        \n",
    "    next_page_token = response.get('nextPageToken') \n",
    "    while next_page_token is not None:\n",
    "        request = youtube.playlistItems().list(\n",
    "                part=\"snippet,contentDetails\",\n",
    "                playlistId=\"PL3-PXpEvVoG8zY7MFlb2PSfPzb6hNbv-A\",\n",
    "                maxResults = 50,\n",
    "                pageToken = next_page_token)\n",
    "        response = request.execute()\n",
    "        \n",
    "        for item in response['items']:\n",
    "            video_ids.append(item['contentDetails']['videoId'])\n",
    "        \n",
    "        next_page_token = response.get('nextPageToken')\n",
    "    \n",
    "    return video_ids"
   ]
  },
  {
   "cell_type": "code",
   "execution_count": 39,
   "id": "ed24551d",
   "metadata": {
    "scrolled": true
   },
   "outputs": [],
   "source": [
    "video_ids = get_video_ids(youtube, playlist_id)"
   ]
  },
  {
   "cell_type": "code",
   "execution_count": 40,
   "id": "96b0c557",
   "metadata": {
    "scrolled": true
   },
   "outputs": [
    {
     "data": {
      "text/plain": [
       "27"
      ]
     },
     "execution_count": 40,
     "metadata": {},
     "output_type": "execute_result"
    }
   ],
   "source": [
    "len(video_ids)"
   ]
  },
  {
   "cell_type": "code",
   "execution_count": 41,
   "id": "9778434d",
   "metadata": {},
   "outputs": [],
   "source": [
    "def get_video_details(youtube, video_ids):\n",
    "    all_video_info = []\n",
    "    for i in range(0, len(video_ids), 50):    \n",
    "        request = youtube.videos().list(\n",
    "            part=\"snippet,contentDetails,statistics\",\n",
    "            id=\"Ks-_Mh1QhMc\"\n",
    "        )\n",
    "        response = request.execute()\n",
    "\n",
    "\n",
    "        for video in response['items']:\n",
    "            stats_to_keep = {'snippet': ['channelTitle', 'title', 'description', 'tags', 'publishedAt'],\n",
    "                             'statistics': ['viewCount', 'likeCount', 'favouriteCount', 'commentCount'],\n",
    "                             'contentDetails':['duration','definition','caption']\n",
    "                            }\n",
    "            video_info = {}\n",
    "            video_info['video_id'] = video['id']\n",
    "    \n",
    "        for k in stats_to_keep.keys():\n",
    "            for v in stats_to_keep[k]:\n",
    "                try: \n",
    "                    video_info[v] = video[k][v]\n",
    "                except: \n",
    "                    video_info[v] = None\n",
    "\n",
    "        all_video_info.append(video_info)\n",
    "        \n",
    "    return pd.DataFrame(all_video_info)"
   ]
  },
  {
   "cell_type": "code",
   "execution_count": 42,
   "id": "20f9c56d",
   "metadata": {},
   "outputs": [
    {
     "data": {
      "text/html": [
       "<div>\n",
       "<style scoped>\n",
       "    .dataframe tbody tr th:only-of-type {\n",
       "        vertical-align: middle;\n",
       "    }\n",
       "\n",
       "    .dataframe tbody tr th {\n",
       "        vertical-align: top;\n",
       "    }\n",
       "\n",
       "    .dataframe thead th {\n",
       "        text-align: right;\n",
       "    }\n",
       "</style>\n",
       "<table border=\"1\" class=\"dataframe\">\n",
       "  <thead>\n",
       "    <tr style=\"text-align: right;\">\n",
       "      <th></th>\n",
       "      <th>video_id</th>\n",
       "      <th>channelTitle</th>\n",
       "      <th>title</th>\n",
       "      <th>description</th>\n",
       "      <th>tags</th>\n",
       "      <th>publishedAt</th>\n",
       "      <th>viewCount</th>\n",
       "      <th>likeCount</th>\n",
       "      <th>favouriteCount</th>\n",
       "      <th>commentCount</th>\n",
       "      <th>duration</th>\n",
       "      <th>definition</th>\n",
       "      <th>caption</th>\n",
       "    </tr>\n",
       "  </thead>\n",
       "  <tbody>\n",
       "    <tr>\n",
       "      <th>0</th>\n",
       "      <td>Ks-_Mh1QhMc</td>\n",
       "      <td>TED</td>\n",
       "      <td>Your body language may shape who you are | Amy...</td>\n",
       "      <td>Body language affects how others see us, but i...</td>\n",
       "      <td>[Amy Cuddy, TED, TEDTalk, TEDTalks, TED Talk, ...</td>\n",
       "      <td>2012-10-01T15:27:35Z</td>\n",
       "      <td>22874968</td>\n",
       "      <td>382238</td>\n",
       "      <td>None</td>\n",
       "      <td>9480</td>\n",
       "      <td>PT21M3S</td>\n",
       "      <td>hd</td>\n",
       "      <td>true</td>\n",
       "    </tr>\n",
       "  </tbody>\n",
       "</table>\n",
       "</div>"
      ],
      "text/plain": [
       "      video_id channelTitle  \\\n",
       "0  Ks-_Mh1QhMc          TED   \n",
       "\n",
       "                                               title  \\\n",
       "0  Your body language may shape who you are | Amy...   \n",
       "\n",
       "                                         description  \\\n",
       "0  Body language affects how others see us, but i...   \n",
       "\n",
       "                                                tags           publishedAt  \\\n",
       "0  [Amy Cuddy, TED, TEDTalk, TEDTalks, TED Talk, ...  2012-10-01T15:27:35Z   \n",
       "\n",
       "  viewCount likeCount favouriteCount commentCount duration definition caption  \n",
       "0  22874968    382238           None         9480  PT21M3S         hd    true  "
      ]
     },
     "execution_count": 42,
     "metadata": {},
     "output_type": "execute_result"
    }
   ],
   "source": [
    "video_df = get_video_details(youtube, video_ids)\n",
    "video_df"
   ]
  },
  {
   "cell_type": "code",
   "execution_count": 43,
   "id": "7d63fa82",
   "metadata": {},
   "outputs": [
    {
     "data": {
      "text/html": [
       "<div>\n",
       "<style scoped>\n",
       "    .dataframe tbody tr th:only-of-type {\n",
       "        vertical-align: middle;\n",
       "    }\n",
       "\n",
       "    .dataframe tbody tr th {\n",
       "        vertical-align: top;\n",
       "    }\n",
       "\n",
       "    .dataframe thead th {\n",
       "        text-align: right;\n",
       "    }\n",
       "</style>\n",
       "<table border=\"1\" class=\"dataframe\">\n",
       "  <thead>\n",
       "    <tr style=\"text-align: right;\">\n",
       "      <th></th>\n",
       "      <th>video_id</th>\n",
       "      <th>channelTitle</th>\n",
       "      <th>title</th>\n",
       "      <th>description</th>\n",
       "      <th>tags</th>\n",
       "      <th>publishedAt</th>\n",
       "      <th>viewCount</th>\n",
       "      <th>likeCount</th>\n",
       "      <th>favouriteCount</th>\n",
       "      <th>commentCount</th>\n",
       "      <th>duration</th>\n",
       "      <th>definition</th>\n",
       "      <th>caption</th>\n",
       "    </tr>\n",
       "  </thead>\n",
       "  <tbody>\n",
       "    <tr>\n",
       "      <th>0</th>\n",
       "      <td>Ks-_Mh1QhMc</td>\n",
       "      <td>TED</td>\n",
       "      <td>Your body language may shape who you are | Amy...</td>\n",
       "      <td>Body language affects how others see us, but i...</td>\n",
       "      <td>[Amy Cuddy, TED, TEDTalk, TEDTalks, TED Talk, ...</td>\n",
       "      <td>2012-10-01T15:27:35Z</td>\n",
       "      <td>22874968</td>\n",
       "      <td>382238</td>\n",
       "      <td>None</td>\n",
       "      <td>9480</td>\n",
       "      <td>PT21M3S</td>\n",
       "      <td>hd</td>\n",
       "      <td>true</td>\n",
       "    </tr>\n",
       "  </tbody>\n",
       "</table>\n",
       "</div>"
      ],
      "text/plain": [
       "      video_id channelTitle  \\\n",
       "0  Ks-_Mh1QhMc          TED   \n",
       "\n",
       "                                               title  \\\n",
       "0  Your body language may shape who you are | Amy...   \n",
       "\n",
       "                                         description  \\\n",
       "0  Body language affects how others see us, but i...   \n",
       "\n",
       "                                                tags           publishedAt  \\\n",
       "0  [Amy Cuddy, TED, TEDTalk, TEDTalks, TED Talk, ...  2012-10-01T15:27:35Z   \n",
       "\n",
       "  viewCount likeCount favouriteCount commentCount duration definition caption  \n",
       "0  22874968    382238           None         9480  PT21M3S         hd    true  "
      ]
     },
     "execution_count": 43,
     "metadata": {},
     "output_type": "execute_result"
    }
   ],
   "source": [
    "video_df.tail()"
   ]
  },
  {
   "cell_type": "code",
   "execution_count": 44,
   "id": "25301041",
   "metadata": {},
   "outputs": [],
   "source": [
    "def get_comments_in_videos(youtube, video_ids):\n",
    "    comments_data = []\n",
    "\n",
    "    for video_id in response_dict:\n",
    "        request = youtube.commentThreads().list(\n",
    "            part=\"snippet\",\n",
    "            videoId=video_id,\n",
    "            textFormat=\"plainText\",\n",
    "            maxResults=100\n",
    "        )\n",
    "        response = request.execute()\n",
    "        response_dict = json.loads(response)\n",
    "\n",
    "        comments_in_video = [\n",
    "            comment['snippet']['topLevelComment']['snippet']['textOriginal'] \n",
    "            for comment in response_dict['items']\n",
    "        ]\n",
    "        comments_in_video_info = {'video_id': video_id, 'comments': comments_in_video}\n",
    "\n",
    "        comments_data.append(comments_in_video_insfo)\n",
    "\n",
    "    return pd.DataFrame(comments_data)"
   ]
  },
  {
   "cell_type": "code",
   "execution_count": null,
   "id": "7c96df9b",
   "metadata": {},
   "outputs": [],
   "source": []
  }
 ],
 "metadata": {
  "kernelspec": {
   "display_name": "PythonData",
   "language": "python",
   "name": "pythondata"
  },
  "language_info": {
   "codemirror_mode": {
    "name": "ipython",
    "version": 3
   },
   "file_extension": ".py",
   "mimetype": "text/x-python",
   "name": "python",
   "nbconvert_exporter": "python",
   "pygments_lexer": "ipython3",
   "version": "3.7.13"
  }
 },
 "nbformat": 4,
 "nbformat_minor": 5
}
